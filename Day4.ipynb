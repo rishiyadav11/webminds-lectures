{
 "cells": [
  {
   "cell_type": "markdown",
   "id": "1e7db71d",
   "metadata": {},
   "source": [
    "# 🎨 Day 4 – Introduction to CSS (Cascading Style Sheets)"
   ]
  },
  {
   "cell_type": "markdown",
   "id": "87dbf708",
   "metadata": {},
   "source": [
    "\n",
    "## 🧠 What is CSS?\n",
    "- CSS = **Cascading Style Sheets**.\n",
    "- Used to **style HTML elements**: colors, fonts, spacing, size, layout, etc.\n",
    "- Separates **content (HTML)** from **style (CSS)**.\n",
    "- Makes your website **beautiful and interactive**.\n"
   ]
  },
  {
   "cell_type": "markdown",
   "id": "55c00b32",
   "metadata": {},
   "source": [
    "\n",
    "## 🛠️ Ways to Add CSS\n",
    "1. **Inline CSS** – directly inside HTML tag using `style` attribute.\n",
    "   ```html\n",
    "   <h1 style=\"color: blue;\">Hello World</h1>\n",
    "   ```\n",
    "2. **Internal CSS** – inside `<style>` in `<head>` section.\n",
    "   ```html\n",
    "   <style>\n",
    "     h1 { color: blue; }\n",
    "   </style>\n",
    "   ```\n",
    "3. **External CSS** – in a separate `.css` file and linked in HTML.\n",
    "   ```html\n",
    "   <link rel=\"stylesheet\" href=\"style.css\">\n",
    "   ```\n"
   ]
  },
  {
   "cell_type": "markdown",
   "id": "6f5d2d7f",
   "metadata": {},
   "source": [
    "\n",
    "## 📏 CSS Basics & Properties\n",
    "### 1. Size & Dimensions\n",
    "- `width`, `height` → specify element dimensions\n",
    "- Units: `px`, `%`, `em`, `rem`\n",
    "```css\n",
    "div { width: 200px; height: 150px; }\n",
    "```\n",
    "\n",
    "### 2. Text Styling\n",
    "- `font-size` → size of text\n",
    "- `font-weight` → boldness (normal, bold, 100-900)\n",
    "- `color` → text color\n",
    "```css\n",
    "h1 { font-size: 36px; font-weight: bold; color: red; }\n",
    "```\n",
    "\n",
    "### 3. Background\n",
    "- `background-color` → sets background color of element\n",
    "```css\n",
    "body { background-color: #f0f0f0; }\n",
    "```\n"
   ]
  },
  {
   "cell_type": "markdown",
   "id": "578042de",
   "metadata": {},
   "source": [
    "## 🧪 Live Practice – Test CSS in Notebook"
   ]
  },
  {
   "cell_type": "code",
   "execution_count": null,
   "id": "d86cc960",
   "metadata": {},
   "outputs": [],
   "source": [
    "%%html\n",
    "<div style=\"width:200px; height:100px; background-color:lightblue; color:white; font-size:20px; font-weight:bold; text-align:center; line-height:100px;\">\n",
    "Hello CSS\n",
    "</div>\n"
   ]
  },
  {
   "cell_type": "markdown",
   "id": "ccb26279",
   "metadata": {},
   "source": [
    "\n",
    "## 🔥 Day 4 Task – Style the Provided Template\n",
    "You are provided with the following **HTML template**. Your job is to **complete the styling using CSS**:\n",
    "\n",
    "```html\n",
    "<!DOCTYPE html>\n",
    "<html lang=\"en\">\n",
    "<head>\n",
    "  <title>Day 4 Task</title>\n",
    "  <style>\n",
    "    /* Add your CSS here */\n",
    "  </style>\n",
    "</head>\n",
    "<body>\n",
    "  <header>\n",
    "    <h1>Welcome to My Website</h1>\n",
    "  </header>\n",
    "\n",
    "  <section>\n",
    "    <p>This is a paragraph of text. Style me!</p>\n",
    "    <button>Click Me</button>\n",
    "  </section>\n",
    "\n",
    "  <footer>\n",
    "    <p>© 2025 My First Styled Website</p>\n",
    "  </footer>\n",
    "</body>\n",
    "</html>\n",
    "```\n",
    "\n",
    "### ✅ Task Requirements\n",
    "- Header: background color, adjust `<h1>` font size & color.\n",
    "- Paragraph: text color, font size.\n",
    "- Button: width, height, background color, font color.\n",
    "- Footer: background color, text color.\n"
   ]
  }
 ],
 "metadata": {
  "language_info": {
   "name": "python"
  }
 },
 "nbformat": 4,
 "nbformat_minor": 5
}
