{
 "cells": [
  {
   "cell_type": "markdown",
   "id": "4125f285",
   "metadata": {},
   "source": [
    "# 📘 Day 3: Deep Dive into HTML\n",
    "Welcome to **Day 3** of our HTML, CSS, and Animation batch! 🚀\n",
    "\n",
    "Today we will:\n",
    "- Learn the **core structure of HTML**.\n",
    "- Explore **tags and attributes** in detail.\n",
    "- Understand **semantic vs non-semantic tags**.\n",
    "- Work on a mini **project**: Creating a Box Layout using `<div>`.\n",
    "\n",
    "---"
   ]
  },
  {
   "cell_type": "markdown",
   "id": "c26f11f6",
   "metadata": {},
   "source": [
    "## 🧠 What is HTML?\n",
    "- HTML stands for **HyperText Markup Language**.\n",
    "- It is the **skeleton** of any web page.\n",
    "- HTML is not a programming language, it’s a **markup language**.\n",
    "- It uses **tags** to define elements on a webpage.\n",
    "\n",
    "👉 Without HTML, there is no structure for websites."
   ]
  },
  {
   "cell_type": "markdown",
   "id": "dcf2866b",
   "metadata": {},
   "source": [
    "## 🏷️ HTML Tags\n",
    "Tags are keywords enclosed in **angle brackets `< >`**.\n",
    "\n",
    "Types of Tags:\n",
    "- **Container Tags**: `<html>...</html>`, `<body>...</body>`\n",
    "- **Empty Tags**: `<br>`, `<hr>`, `<img>`\n",
    "\n",
    "Example:\n",
    "```html\n",
    "<h1>Hello World</h1>\n",
    "<br>\n",
    "<img src='image.png' alt='Sample Image'>\n",
    "```"
   ]
  },
  {
   "cell_type": "markdown",
   "id": "9e273f47",
   "metadata": {},
   "source": [
    "## ⚙️ HTML Attributes\n",
    "Attributes provide **extra information** about elements.\n",
    "\n",
    "Common Attributes:\n",
    "- `id` → unique identifier for an element.\n",
    "- `class` → group elements.\n",
    "- `src` → source for images or media.\n",
    "- `href` → link for anchor tag.\n",
    "- `alt` → alternate text for images.\n",
    "\n",
    "Example:\n",
    "```html\n",
    "<a href='https://google.com' target='_blank'>Visit Google</a>\n",
    "<img src='car.png' alt='Car Image' width='200'>\n",
    "```"
   ]
  },
  {
   "cell_type": "markdown",
   "id": "53568254",
   "metadata": {},
   "source": [
    "## 📑 Semantic vs Non-Semantic Tags\n",
    "- **Semantic Tags** → Clearly describe their meaning.\n",
    "   - Examples: `<header>`, `<article>`, `<section>`, `<footer>`\n",
    "- **Non-Semantic Tags** → Do not describe content.\n",
    "   - Example: `<div>`, `<span>`\n",
    "\n",
    "👉 Semantic tags help in **SEO** and accessibility."
   ]
  },
  {
   "cell_type": "markdown",
   "id": "91e6cbb0",
   "metadata": {},
   "source": [
    "## 🏗️ Basic Structure of an HTML Page\n",
    "```html\n",
    "<!DOCTYPE html>\n",
    "<html lang='en'>\n",
    "<head>\n",
    "    <meta charset='UTF-8'>\n",
    "    <meta name='viewport' content='width=device-width, initial-scale=1.0'>\n",
    "    <title>My First HTML Page</title>\n",
    "</head>\n",
    "<body>\n",
    "    <h1>Welcome to Day 3</h1>\n",
    "    <p>This is a simple HTML document.</p>\n",
    "</body>\n",
    "</html>\n",
    "```"
   ]
  },
  {
   "cell_type": "markdown",
   "id": "4636077e",
   "metadata": {},
   "source": [
    "## 📦 Project: Box Layout using `<div>`\n",
    "We will create a **Box Layout** with multiple sections using only HTML (no CSS yet).\n",
    "\n",
    "```html\n",
    "<!DOCTYPE html>\n",
    "<html lang='en'>\n",
    "<head>\n",
    "    <title>Box Layout</title>\n",
    "</head>\n",
    "<body>\n",
    "    <div>\n",
    "        <h1>Header Section</h1>\n",
    "        <p>This is the header.</p>\n",
    "    </div>\n",
    "\n",
    "    <div>\n",
    "        <h2>Content Section</h2>\n",
    "        <p>This is the main content area.</p>\n",
    "    </div>\n",
    "\n",
    "    <div>\n",
    "        <h2>Footer Section</h2>\n",
    "        <p>© 2025 My First Website</p>\n",
    "    </div>\n",
    "</body>\n",
    "</html>\n",
    "```"
   ]
  },
  {
   "cell_type": "markdown",
   "id": "c55f7df2",
   "metadata": {},
   "source": [
    "# 🛒 Day 3 Big Task: Build Amazon.com Clone (HTML only)"
   ]
  },
  {
   "cell_type": "markdown",
   "id": "d8621f71",
   "metadata": {},
   "source": [
    "\n",
    "## 🎯 Objective\n",
    "Recreate a **basic Amazon homepage layout** using only **HTML tags and attributes**.\n"
   ]
  },
  {
   "cell_type": "markdown",
   "id": "11413aad",
   "metadata": {},
   "source": [
    "\n",
    "## 📌 Requirements\n",
    "\n",
    "### Header Section\n",
    "- Amazon logo (`<img>` with `alt=\"Amazon Logo\"`)\n",
    "- A search bar (`<input type=\"text\">` + `<button>`)\n",
    "- Navigation links (`<a>` tags for Home, Deals, Orders, Cart)\n",
    "\n",
    "### Main Banner Section\n",
    "- Use a `<div>` or `<section>` for the big banner\n",
    "- Insert a promotional image using `<img>`\n",
    "\n",
    "### Product Grid Section\n",
    "- Create **4 product boxes** using `<div>`\n",
    "- Each product must include:\n",
    "  - Product image `<img>`\n",
    "  - Product title `<h3>`\n",
    "  - Price `<p>`\n",
    "  - A Buy Now button (`<button>`)\n",
    "\n",
    "### Footer Section\n",
    "- Use `<footer>` with:\n",
    "  - Links like About Us, Careers, Help\n",
    "  - A copyright `<p>`\n"
   ]
  },
  {
   "cell_type": "markdown",
   "id": "bb5dfa69",
   "metadata": {},
   "source": [
    "\n",
    "## 💡 Starter Template (Students Expand This)\n",
    "```html\n",
    "<!DOCTYPE html>\n",
    "<html lang=\"en\">\n",
    "<head>\n",
    "  <title>Amazon Clone</title>\n",
    "</head>\n",
    "<body>\n",
    "\n",
    "  <!-- Header -->\n",
    "  <header>\n",
    "    <img src=\"amazon-logo.png\" alt=\"Amazon Logo\" width=\"100\">\n",
    "    <input type=\"text\" placeholder=\"Search Amazon\">\n",
    "    <button>Search</button>\n",
    "    <nav>\n",
    "      <a href=\"#\">Home</a>\n",
    "      <a href=\"#\">Deals</a>\n",
    "      <a href=\"#\">Orders</a>\n",
    "      <a href=\"#\">Cart</a>\n",
    "    </nav>\n",
    "  </header>\n",
    "\n",
    "  <!-- Banner -->\n",
    "  <section>\n",
    "    <img src=\"banner.jpg\" alt=\"Amazon Deals\" width=\"100%\">\n",
    "  </section>\n",
    "\n",
    "  <!-- Products -->\n",
    "  <section>\n",
    "    <div>\n",
    "      <img src=\"product1.jpg\" alt=\"Product 1\">\n",
    "      <h3>Product 1</h3>\n",
    "      <p>$100</p>\n",
    "      <button>Buy Now</button>\n",
    "    </div>\n",
    "\n",
    "    <!-- Add 3 more product boxes here -->\n",
    "  </section>\n",
    "\n",
    "  <!-- Footer -->\n",
    "  <footer>\n",
    "    <p>&copy; 2025 Amazon Clone | Created by [Your Name]</p>\n",
    "  </footer>\n",
    "\n",
    "</body>\n",
    "</html>\n",
    "```\n"
   ]
  },
  {
   "cell_type": "markdown",
   "id": "cabdd5b7",
   "metadata": {},
   "source": [
    "\n",
    "## ⚡ Task\n",
    "1. Save this file as `amazon.html`\n",
    "2. Open it in a browser and verify it displays correctly\n",
    "3. Submit it on github\n"
   ]
  },
  {
   "cell_type": "code",
   "execution_count": null,
   "id": "c4284184",
   "metadata": {},
   "outputs": [],
   "source": [
    "%%html\n",
    "<!-- Example: students can test small pieces here -->\n",
    "<h1>Amazon Clone Header Example</h1>\n",
    "<img src=\"https://via.placeholder.com/100x50\" alt=\"Amazon Logo\">\n",
    "<input type=\"text\" placeholder=\"Search Amazon\">\n",
    "<button>Search</button>\n",
    "<nav>\n",
    "  <a href=\"#\">Home</a>\n",
    "  <a href=\"#\">Deals</a>\n",
    "  <a href=\"#\">Orders</a>\n",
    "  <a href=\"#\">Cart</a>\n",
    "</nav>\n"
   ]
  }
 ],
 "metadata": {
  "language_info": {
   "name": "python"
  }
 },
 "nbformat": 4,
 "nbformat_minor": 5
}
