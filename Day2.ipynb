{
 "cells": [
  {
   "cell_type": "markdown",
   "id": "e3966615",
   "metadata": {},
   "source": [
    "# 🚀 Day 2 – HTML, CSS & The Web Brain"
   ]
  },
  {
   "cell_type": "markdown",
   "id": "9a6257a8",
   "metadata": {},
   "source": [
    "\n",
    "## 🧠 Big Picture: How the Web Works  \n",
    "\n",
    "- **HTML = Content (the body, structure, skeleton)**  \n",
    "- **CSS = Styles (the clothes, skin, beauty)**  \n",
    "- **JavaScript / Python = Brain (the logic, thinking, interactivity)**  \n",
    "\n",
    "👉 Together, they create every website, app, and even parts of modern software.  \n"
   ]
  },
  {
   "cell_type": "markdown",
   "id": "f2d8c4d4",
   "metadata": {},
   "source": [
    "\n",
    "# 📄 HTML – The Content  \n",
    "HTML (**HyperText Markup Language**) is the backbone of any website.  \n",
    "\n",
    "### Why HTML?\n",
    "- Structures information on the web.  \n",
    "- Defines headings, paragraphs, images, links, forms, etc.  \n",
    "- First thing a browser reads when loading a site.  \n",
    "\n",
    "✅ Example: HTML is the **skeleton** of a human body.\n"
   ]
  },
  {
   "cell_type": "code",
   "execution_count": null,
   "id": "1e42521e",
   "metadata": {},
   "outputs": [],
   "source": []
  },
  {
   "cell_type": "markdown",
   "id": "1fb797e3",
   "metadata": {},
   "source": [
    "\n",
    "### Basic Boilerplate Code\n",
    "```html\n",
    "<!DOCTYPE html>\n",
    "<html lang=\"en\">\n",
    "<head>\n",
    "  <meta charset=\"UTF-8\">\n",
    "  <meta name=\"viewport\" content=\"width=device-width, initial-scale=1.0\">\n",
    "  <title>Day 2 Demo</title>\n",
    "</head>\n",
    "<body>\n",
    "  <h1>Hello WebMinds 👋</h1>\n",
    "  <p>This is our first structured webpage!</p>\n",
    "</body>\n",
    "</html>\n",
    "```\n"
   ]
  },
  {
   "cell_type": "markdown",
   "id": "ee4f3c72",
   "metadata": {},
   "source": [
    "\n",
    "### Common HTML Tags  \n",
    "- `<h1> to <h6>` → Headings  \n",
    "- `<p>` → Paragraph  \n",
    "- `<a>` → Link  \n",
    "- `<img>` → Image  \n",
    "- `<ul>, <ol>, <li>` → Lists  \n",
    "- `<div>` → Block container  \n",
    "- `<span>` → Inline container  \n",
    "- `<br>, <hr>` → Line break & horizontal line  \n",
    "- `<table>` → Create tables  \n",
    "- `<form>, <input>, <button>` → Forms and inputs  \n",
    "- `<video>, <audio>` → Media  \n"
   ]
  },
  {
   "cell_type": "markdown",
   "id": "bc9b7995",
   "metadata": {},
   "source": [
    "\n",
    "# 🎨 CSS – The Styles  \n",
    "CSS (**Cascading Style Sheets**) makes websites **beautiful** and **responsive**.  \n",
    "\n",
    "### Why CSS?\n",
    "- Adds colors, fonts, spacing, layouts.  \n",
    "- Responsible for responsiveness (desktop, tablet, mobile).  \n",
    "- Enables animations & transitions.  \n",
    "\n",
    "✅ Example: CSS is the **clothes, skin, and looks** of a human body.  \n"
   ]
  },
  {
   "cell_type": "markdown",
   "id": "74269304",
   "metadata": {},
   "source": [
    "\n",
    "### CSS Example (Inline Styling)\n",
    "```html\n",
    "<h1 style=\"color: blue; text-align: center;\">Hello Styled World 🌍</h1>\n",
    "<p style=\"font-size:18px; color: green;\">This is a styled paragraph.</p>\n",
    "```\n"
   ]
  },
  {
   "cell_type": "markdown",
   "id": "3ab6e531",
   "metadata": {},
   "source": [
    "\n",
    "# 🧠 JavaScript / Python – The Brain  \n",
    "- Brings interactivity & logic.  \n",
    "- JavaScript is the brain of the web (runs in browsers).  \n",
    "- Python can also act as a brain (for backend, data, AI).  \n",
    "\n",
    "✅ Example: JS/Python is the **brain** that makes the skeleton (HTML) and clothes (CSS) actually work together.\n"
   ]
  },
  {
   "cell_type": "markdown",
   "id": "f7f3538b",
   "metadata": {},
   "source": [
    "\n",
    "# 📂 File Types You’ll Use  \n",
    "- `.html` → Structure file  \n",
    "- `.css` → Stylesheet file  \n",
    "- `.js` → JavaScript logic  \n",
    "- `.py` → Python logic (backend, AI, data)  \n",
    "- `.png / .jpg / .svg` → Images  \n",
    "- `.mp4 / .gif` → Videos & animations  \n",
    "- `.json` → Data exchange file  \n"
   ]
  },
  {
   "cell_type": "markdown",
   "id": "dbb20d99",
   "metadata": {},
   "source": [
    "\n",
    "# 🔍 Dissecting a Website  \n",
    "Every site has 3 major sections:  \n",
    "\n",
    "1. **Header** – Logo, navigation menu, search bar  \n",
    "2. **Body** – Main content (text, images, videos, products)  \n",
    "3. **Footer** – Contact info, social links, copyright  \n"
   ]
  },
  {
   "cell_type": "markdown",
   "id": "0d05c290",
   "metadata": {},
   "source": [
    "\n",
    "# 🧪 Live Practice – Try HTML in Notebook  \n",
    "\n",
    "Run the below cell to test HTML rendering 👇  \n"
   ]
  },
  {
   "cell_type": "code",
   "execution_count": null,
   "id": "e7a20ebe",
   "metadata": {},
   "outputs": [],
   "source": [
    "%%html\n",
    "<h1 style=\"color:purple;\">Hello WebMinds 👋</h1>\n",
    "<p>This is rendered directly inside Jupyter Notebook.</p>\n"
   ]
  },
  {
   "cell_type": "markdown",
   "id": "cde0aae1",
   "metadata": {},
   "source": [
    "\n",
    "# 🔥 Tasks for Today  \n",
    "\n",
    "### ✅ Task 1 – Build & Post Your First Website  \n",
    "1. Create a file `index.html`.  \n",
    "2. Add your **name** in `<h1>`.  \n",
    "3. Write a short **intro paragraph** using `<p>`.  \n",
    "4. Insert an **image** (`<img>`).  \n",
    "5. Add one **link** (`<a>`) to your favorite site.  \n",
    "6. Post a screenshot of your website in the group.  \n",
    "\n",
    "---\n",
    "\n",
    "### ✅ Task 2 – Dissect Your First Website  \n",
    "- Identify **Header, Body, Footer** in your page.  \n",
    "- Explain what you placed in each part.  \n",
    "\n",
    "---\n",
    "\n",
    "### ✅ Task 3 – About Me Page  \n",
    "- Make a small **About Me Page** with:  \n",
    "  - Heading for your name  \n",
    "  - Paragraph introducing yourself  \n",
    "  - Image of yourself / favorite thing  \n",
    "  - Links to social profiles  \n",
    "- Add **inline CSS** for colors and fonts.  \n"
   ]
  }
 ],
 "metadata": {
  "language_info": {
   "name": "python"
  }
 },
 "nbformat": 4,
 "nbformat_minor": 5
}
