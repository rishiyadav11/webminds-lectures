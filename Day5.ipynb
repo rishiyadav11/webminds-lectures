{
 "cells": [
  {
   "cell_type": "markdown",
   "id": "b72455ce",
   "metadata": {},
   "source": [
    "# 📘 Day 5 – Height, Width & CSS Units Deep Dive"
   ]
  },
  {
   "cell_type": "markdown",
   "id": "76b98f61",
   "metadata": {},
   "source": [
    "\n",
    "## 🧠 Focus of Day 5\n",
    "Today we will **learn everything about height, width, and CSS units** in-depth.  \n",
    "Understanding units and dimensions is **critical for layout and responsive design**.\n",
    "\n",
    "We will cover:\n",
    "- Fixed vs Relative dimensions\n",
    "- Absolute units: px, pt, cm, mm, in\n",
    "- Relative units: %, em, rem, vh, vw, vmin, vmax\n",
    "- Live examples showing behavior\n"
   ]
  },
  {
   "cell_type": "code",
   "execution_count": null,
   "id": "365d062d",
   "metadata": {},
   "outputs": [],
   "source": []
  },
  {
   "cell_type": "markdown",
   "id": "657f0a92",
   "metadata": {},
   "source": [
    "\n",
    "## 📏 Height & Width in CSS\n",
    "- `width` → defines the width of an element  \n",
    "- `height` → defines the height of an element  \n",
    "- Works on **block elements** (div, section, header, footer, etc.)  \n",
    "- Inline elements (like `<span>`) ignore height and width unless `display` is changed\n",
    "\n",
    "### Examples\n",
    "```css\n",
    "div {\n",
    "  width: 200px;\n",
    "  height: 100px;\n",
    "  background-color: lightblue;\n",
    "}\n",
    "```\n",
    "- Block element will appear as a **rectangle of 200px by 100px**\n",
    "- You can also use percentages, viewport units, or relative units\n"
   ]
  },
  {
   "cell_type": "markdown",
   "id": "018bc778",
   "metadata": {},
   "source": [
    "\n",
    "## 🏷️ Absolute Units\n",
    "- **px** → pixels, most common unit for screens  \n",
    "- **pt** → points, used in print (1pt = 1/72 inch)  \n",
    "- **cm / mm / in** → centimeters, millimeters, inches (rare for web, mostly print)\n",
    "\n",
    "### Example\n",
    "```css\n",
    "div {\n",
    "  width: 5cm;\n",
    "  height: 2cm;\n",
    "  background-color: coral;\n",
    "}\n",
    "```\n",
    "- Absolute units are fixed **size regardless of screen**.\n"
   ]
  },
  {
   "cell_type": "markdown",
   "id": "b5c29d62",
   "metadata": {},
   "source": [
    "\n",
    "## 🔄 Relative Units\n",
    "- **%** → percentage of parent element dimension  \n",
    "- **em** → relative to **font-size of parent**  \n",
    "- **rem** → relative to **font-size of root (`html`)**  \n",
    "- **vh / vw** → 1% of **viewport height / width**  \n",
    "- **vmin / vmax** → 1% of **smaller / larger** viewport dimension  \n",
    "\n",
    "### Examples\n",
    "```css\n",
    "div {\n",
    "  width: 50%;     /* 50% of parent width */\n",
    "  height: 20vh;   /* 20% of viewport height */\n",
    "  font-size: 2rem;/* 2 times root font size */\n",
    "}\n",
    "```\n",
    "- Relative units are **responsive-friendly**.\n"
   ]
  },
  {
   "cell_type": "code",
   "execution_count": null,
   "id": "48ec6ac8",
   "metadata": {},
   "outputs": [],
   "source": []
  },
  {
   "cell_type": "markdown",
   "id": "4abe182b",
   "metadata": {},
   "source": [
    "## 🧪 Live Examples – Boxes with Different Units"
   ]
  },
  {
   "cell_type": "code",
   "execution_count": null,
   "id": "4ec3ad0b",
   "metadata": {},
   "outputs": [],
   "source": [
    "%%html\n",
    "<style>\n",
    ".box-px { width:200px; height:100px; background: lightblue; margin:5px; text-align:center; line-height:100px;}\n",
    ".box-percent { width:50%; height:50px; background: lightgreen; margin:5px; text-align:center; line-height:50px;}\n",
    ".box-em { width:10em; height:5em; background: lightcoral; margin:5px; text-align:center; line-height:5em;}\n",
    ".box-rem { width:15rem; height:7rem; background: lightgoldenrodyellow; margin:5px; text-align:center; line-height:7rem;}\n",
    ".box-vh { width:20vw; height:20vh; background: lightpink; margin:5px; text-align:center; line-height:20vh;}\n",
    "</style>\n",
    "\n",
    "<div class=\"box-px\">200px x 100px</div>\n",
    "<div class=\"box-percent\">50% width, 50px height</div>\n",
    "<div class=\"box-em\">10em x 5em</div>\n",
    "<div class=\"box-rem\">15rem x 7rem</div>\n",
    "<div class=\"box-vh\">20vw x 20vh</div>\n"
   ]
  },
  {
   "cell_type": "markdown",
   "id": "513f0e80",
   "metadata": {},
   "source": [
    "\n",
    "## 💡 Important Tips\n",
    "1. Use **relative units** (`%`, `em`, `rem`, `vh`, `vw`) for **responsive design**.\n",
    "2. Absolute units (`px`, `cm`, `pt`) are **fixed**, not ideal for flexible layouts.\n",
    "3. Inline elements ignore height/width unless you set `display: block;` or `display: inline-block;`\n",
    "4. Mix units wisely: `width` in `%` and `height` in `vh` is common for full-page layouts.\n"
   ]
  },
  {
   "cell_type": "markdown",
   "id": "bc88a2d7",
   "metadata": {},
   "source": [
    "\n",
    "## 🔥 Day 5 Task\n",
    "1. Create a **layout with at least 5 `<div>` boxes**.  \n",
    "2. Apply **different height & width units** to each box: `px`, `%`, `em`, `rem`, `vh`, `vw`.  \n",
    "3. Give each box a **different background color** to visualize the size.  \n",
    "4. Observe **changes on resizing the browser window**.  \n",
    "5. Save your file as `day5_units.html` and submit.\n"
   ]
  }
 ],
 "metadata": {
  "language_info": {
   "name": "python"
  }
 },
 "nbformat": 4,
 "nbformat_minor": 5
}
